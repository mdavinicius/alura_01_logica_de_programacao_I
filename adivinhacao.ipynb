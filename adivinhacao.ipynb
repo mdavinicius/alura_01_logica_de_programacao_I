{
  "nbformat": 4,
  "nbformat_minor": 0,
  "metadata": {
    "colab": {
      "name": "adivinhacao.ipynb",
      "provenance": [],
      "collapsed_sections": [],
      "authorship_tag": "ABX9TyNmEUzn0Kn1Q7GW1kS7SRkB",
      "include_colab_link": true
    },
    "kernelspec": {
      "name": "python3",
      "display_name": "Python 3"
    },
    "language_info": {
      "name": "python"
    }
  },
  "cells": [
    {
      "cell_type": "markdown",
      "metadata": {
        "id": "view-in-github",
        "colab_type": "text"
      },
      "source": [
        "<a href=\"https://colab.research.google.com/github/mdavinicius/alura_01_logica_de_programacao_I/blob/main/adivinhacao.ipynb\" target=\"_parent\"><img src=\"https://colab.research.google.com/assets/colab-badge.svg\" alt=\"Open In Colab\"/></a>"
      ]
    },
    {
      "cell_type": "markdown",
      "metadata": {
        "id": "8LJWx4czd2lf"
      },
      "source": [
        "# Jogo da Adivinhação\n",
        "\n",
        "Vamos começar pelo básico:\n",
        "- o número secreto será um número fixo\n",
        "- um *input* de *int* para o usuário inserir seu chute\n",
        "- e um *if* para testar se ele adivinhou ou não qual é o nosso número secreto"
      ]
    },
    {
      "cell_type": "code",
      "metadata": {
        "colab": {
          "base_uri": "https://localhost:8080/"
        },
        "id": "9J8J3LAmc3mu",
        "outputId": "ede16bab-02e4-46ae-d565-02b7220ddaac"
      },
      "source": [
        "print(\"*********************************\")\n",
        "print(\"Bem vindo ao jogo de Adivinhação!\")\n",
        "print(\"*********************************\")\n",
        "\n",
        "numero_secreto = 10\n",
        "chute = int(input(\"Adivinhe o numero: \"))\n",
        "\n",
        "if chute == numero_secreto:\n",
        "    print(\"Você acertou!\")\n",
        "else:\n",
        "    print(\"Você errou!\")"
      ],
      "execution_count": 37,
      "outputs": [
        {
          "output_type": "stream",
          "text": [
            "*********************************\n",
            "Bem vindo ao jogo de Adivinhação!\n",
            "*********************************\n",
            "Adivinhe o numero: 40\n",
            "Você errou!\n"
          ],
          "name": "stdout"
        }
      ]
    },
    {
      "cell_type": "markdown",
      "metadata": {
        "id": "6xMgqh7NfcUg"
      },
      "source": [
        "Agora vamos deixar o numer_secreto automático, transformando-o em um número  aleatório entre 1 e 100.\n",
        "\n",
        "Para isso, vamos importar a biblioteca *random* e usar o *randrange(1,101)* - começa do número 1 e vai até o 100, pois o último número mencionado é exclusivo.\n",
        "\n",
        "Obs: Para efeitos didáticos, a partir de agora vou sempre printar o número secreto ao longo do código. Assim podemos saber qual é, e testar os erros e acertos."
      ]
    },
    {
      "cell_type": "code",
      "metadata": {
        "colab": {
          "base_uri": "https://localhost:8080/"
        },
        "id": "z5bigMkOeRZV",
        "outputId": "5b3208b9-a3d8-417d-ebeb-fcdf2df68dc3"
      },
      "source": [
        "import random\n",
        "\n",
        "numero_secreto = random.randrange(1, 101)\n",
        "print(numero_secreto)"
      ],
      "execution_count": 38,
      "outputs": [
        {
          "output_type": "stream",
          "text": [
            "48\n"
          ],
          "name": "stdout"
        }
      ]
    },
    {
      "cell_type": "markdown",
      "metadata": {
        "id": "CdmCuc4cgbl8"
      },
      "source": [
        "O próximo passo é adicionar níveis de dificuldade ao jogo. Conforme maior a dificuldade, menos tentativas o usuário terá para adivinhar o número secreto.\n",
        "- 1. Fácil: 20\n",
        "- 2. Médio: 10\n",
        "- 3. Fácil: 5\n",
        "\n",
        "Tabém precisamos adicionar um loop, para que o jogo termine quando o usuário esgotar suas tentativas ou quando ele acertar o *numero_secreto*. Da para ser feito tanto com *for* como com *while*. Vamos ver as diferenças:"
      ]
    },
    {
      "cell_type": "markdown",
      "metadata": {
        "id": "b0r3bMSii39o"
      },
      "source": [
        "## While\n",
        "\n",
        "- Iremos testar o nível Fácil\n",
        "- O jogo deve encerrar após 20 tentativas"
      ]
    },
    {
      "cell_type": "code",
      "metadata": {
        "colab": {
          "base_uri": "https://localhost:8080/"
        },
        "id": "giRE_2yNgt2W",
        "outputId": "c1a91f9a-0e9e-4ce4-dc43-d4dce30ca7f3"
      },
      "source": [
        "total_de_tentativas = 0\n",
        "rodada = 1\n",
        "\n",
        "print(\"Qual nível de dificuldade?\")\n",
        "print(\"(1) Fácil (2) Médio (3) Difícil\")\n",
        "nivel = int(input(\"Nível: \"))\n",
        "if (nivel == 1):\n",
        "  total_de_tentativas = 20\n",
        "elif (nivel == 2):\n",
        "  total_de_tentativas = 10\n",
        "else:\n",
        "  total_de_tentativas = 5\n",
        "\n",
        "while rodada <= total_de_tentativas:\n",
        "  print(f'Tentativa {rodada} de {total_de_tentativas}')\n",
        "  chute = int(input(\"Adivinhe o numero: \"))\n",
        "  if chute == numero_secreto:\n",
        "      print(\"Você acertou!\")\n",
        "      break\n",
        "  else:\n",
        "      print(\"Você errou!\")\n",
        "      rodada += 1"
      ],
      "execution_count": 39,
      "outputs": [
        {
          "output_type": "stream",
          "text": [
            "Qual nível de dificuldade?\n",
            "(1) Fácil (2) Médio (3) Difícil\n",
            "Nível: 2\n",
            "Tentativa 1 de 10\n",
            "Adivinhe o numero: 10\n",
            "Você errou!\n",
            "Tentativa 2 de 10\n",
            "Adivinhe o numero: 20\n",
            "Você errou!\n",
            "Tentativa 3 de 10\n",
            "Adivinhe o numero: 30\n",
            "Você errou!\n",
            "Tentativa 4 de 10\n",
            "Adivinhe o numero: 40\n",
            "Você errou!\n",
            "Tentativa 5 de 10\n",
            "Adivinhe o numero: 50\n",
            "Você errou!\n",
            "Tentativa 6 de 10\n",
            "Adivinhe o numero: 66\n",
            "Você errou!\n",
            "Tentativa 7 de 10\n",
            "Adivinhe o numero: 23\n",
            "Você errou!\n",
            "Tentativa 8 de 10\n",
            "Adivinhe o numero: 34\n",
            "Você errou!\n",
            "Tentativa 9 de 10\n",
            "Adivinhe o numero: 55\n",
            "Você errou!\n",
            "Tentativa 10 de 10\n",
            "Adivinhe o numero: 3\n",
            "Você errou!\n"
          ],
          "name": "stdout"
        }
      ]
    },
    {
      "cell_type": "markdown",
      "metadata": {
        "id": "zdgUy_pqi6FJ"
      },
      "source": [
        "## For\n",
        "\n",
        "- Iremos usar o nível Difícil\n",
        "- O jogo deve encerrar após 5 tentativas"
      ]
    },
    {
      "cell_type": "code",
      "metadata": {
        "colab": {
          "base_uri": "https://localhost:8080/"
        },
        "id": "HXC_MS97i7MR",
        "outputId": "f2e15e6b-8e6e-4769-e052-1a57b634822c"
      },
      "source": [
        "total_de_tentativas = 0\n",
        "rodada = 1\n",
        "\n",
        "print(\"Qual nível de dificuldade?\")\n",
        "print(\"(1) Fácil (2) Médio (3) Difícil\")\n",
        "nivel = int(input(\"Nível: \"))\n",
        "if (nivel == 1):\n",
        "  total_de_tentativas = 20\n",
        "elif (nivel == 2):\n",
        "  total_de_tentativas = 10\n",
        "else:\n",
        "  total_de_tentativas = 5\n",
        "\n",
        "for rodada in range(1, total_de_tentativas):\n",
        "  print(f'Tentativa {rodada} de {total_de_tentativas}')\n",
        "  chute = int(input(\"Adivinhe o numero: \"))\n",
        "  if chute == numero_secreto:\n",
        "      print(\"Você acertou!\")\n",
        "      break\n",
        "  else:\n",
        "      print(\"Você errou!\")\n",
        "      rodada += 1"
      ],
      "execution_count": 40,
      "outputs": [
        {
          "output_type": "stream",
          "text": [
            "Qual nível de dificuldade?\n",
            "(1) Fácil (2) Médio (3) Difícil\n",
            "Nível: 3\n",
            "Tentativa 1 de 5\n",
            "Adivinhe o numero: 40\n",
            "Você errou!\n",
            "Tentativa 2 de 5\n",
            "Adivinhe o numero: 50\n",
            "Você errou!\n",
            "Tentativa 3 de 5\n",
            "Adivinhe o numero: 33\n",
            "Você errou!\n",
            "Tentativa 4 de 5\n",
            "Adivinhe o numero: 59\n",
            "Você errou!\n"
          ],
          "name": "stdout"
        }
      ]
    },
    {
      "cell_type": "markdown",
      "metadata": {
        "id": "mYjmMGuEUvFS"
      },
      "source": [
        "Do meu ponto de vista, o *While* é mais simples de utilizar do que o *For*.\n",
        "\n",
        "A partir desse ponto, vou usar sempre a versão *While* para continuar o desenvolvimento. Aproveito para compilar uma versão completa do código até o momento.\n",
        "\n",
        "E seguindo, a próxima etapa é adicionar um 'corta erros', para evitar que as pessoas preencham o *chute* em branco ou com alguma letra.\n",
        "Para isso vou dar um passo para trás para dar depois para frente:\n",
        "- vamos começar com o *nivel*, usando a condição *while True com um if*, ou seja, enquanto o usário não colocar um dos 3 valores (1, 2 ou 3), vai ficar no loop\n",
        "- o *chute* será uma *str* vazia\n",
        "- com isso, o jogo ficará em loop até o usuário chutar um número, evitando letras e espaço em branco\n",
        "- também vamos usar o *strip()* para remover qualquer espaço no meio do chute\n",
        "- após inserir um número, como estará como *str*, vamos converter para *int*\n",
        "- se o jogador digitar um número maior que 100, ele será advertido e perderá uma jogada"
      ]
    },
    {
      "cell_type": "code",
      "metadata": {
        "colab": {
          "base_uri": "https://localhost:8080/"
        },
        "id": "UGI5LA-YVkWx",
        "outputId": "4e4d2f34-285a-48ff-99fc-5fcc5d54492a"
      },
      "source": [
        "import random\n",
        "\n",
        "print(\"*********************************\")\n",
        "print(\"Bem vindo ao jogo de Adivinhação!\")\n",
        "print(\"*********************************\")\n",
        "\n",
        "numero_secreto = random.randrange(1, 101)\n",
        "print(numero_secreto)\n",
        "chute = ''\n",
        "total_de_tentativas = 0\n",
        "rodada = 1\n",
        "\n",
        "print(\"Qual nível de dificuldade?\")\n",
        "print(\"(1) Fácil (2) Médio (3) Difícil\")\n",
        "while True:\n",
        "  nivel = input(\"Nível: \").strip()\n",
        "  if nivel == '1' or nivel == '2' or nivel == '3':\n",
        "    break\n",
        "\n",
        "nivel = int(nivel)\n",
        "\n",
        "if (nivel == 1):\n",
        "  total_de_tentativas = 20\n",
        "elif (nivel == 2):\n",
        "  total_de_tentativas = 10\n",
        "else:\n",
        "  total_de_tentativas = 5\n",
        "\n",
        "while rodada <= total_de_tentativas:\n",
        "  print(f'Tentativa {rodada} de {total_de_tentativas}')\n",
        "  while chute.isnumeric() is not True:\n",
        "    chute = input(\"Adivinhe o numero: \").strip()\n",
        "  chute = int(chute)\n",
        "\n",
        "  if (chute < 1 or chute > 100):\n",
        "    print(\"Você deve digitar um número entre 1 e 100!\")\n",
        "\n",
        "  if chute == numero_secreto:\n",
        "      print(\"Você acertou!\")\n",
        "      break\n",
        "  else:\n",
        "      print(\"Você errou!\")\n",
        "      chute = ''\n",
        "      rodada += 1"
      ],
      "execution_count": 41,
      "outputs": [
        {
          "output_type": "stream",
          "text": [
            "*********************************\n",
            "Bem vindo ao jogo de Adivinhação!\n",
            "*********************************\n",
            "22\n",
            "Qual nível de dificuldade?\n",
            "(1) Fácil (2) Médio (3) Difícil\n",
            "Nível: 3\n",
            "Tentativa 1 de 5\n",
            "Adivinhe o numero: 40\n",
            "Você errou!\n",
            "Tentativa 2 de 5\n",
            "Adivinhe o numero: 21\n",
            "Você errou!\n",
            "Tentativa 3 de 5\n",
            "Adivinhe o numero: 22\n",
            "Você acertou!\n"
          ],
          "name": "stdout"
        }
      ]
    },
    {
      "cell_type": "markdown",
      "metadata": {
        "id": "-PUlywDObG9w"
      },
      "source": [
        "Agora que conseguimos evitar os erros de digitação, vamos criar uma espécie de termômetro, para que o usuário saiba se o seu *chute* foi maior ou menor que o *numero_secreto*:"
      ]
    },
    {
      "cell_type": "code",
      "metadata": {
        "colab": {
          "base_uri": "https://localhost:8080/"
        },
        "id": "K2DFQ_FPd2vT",
        "outputId": "1c4d4bbe-52eb-4ab0-ee8f-a6dcb29ac777"
      },
      "source": [
        "import random\n",
        "\n",
        "print(\"*********************************\")\n",
        "print(\"Bem vindo ao jogo de Adivinhação!\")\n",
        "print(\"*********************************\")\n",
        "\n",
        "numero_secreto = random.randrange(1, 101)\n",
        "print(numero_secreto)\n",
        "chute = ''\n",
        "total_de_tentativas = 0\n",
        "rodada = 1\n",
        "\n",
        "print(\"Qual nível de dificuldade?\")\n",
        "print(\"(1) Fácil (2) Médio (3) Difícil\")\n",
        "while True:\n",
        "  nivel = input(\"Nível: \").strip()\n",
        "  if nivel == '1' or nivel == '2' or nivel == '3':\n",
        "    break\n",
        "\n",
        "nivel = int(nivel)\n",
        "\n",
        "if (nivel == 1):\n",
        "  total_de_tentativas = 20\n",
        "elif (nivel == 2):\n",
        "  total_de_tentativas = 10\n",
        "else:\n",
        "  total_de_tentativas = 5\n",
        "\n",
        "while rodada <= total_de_tentativas:\n",
        "  print(f'Tentativa {rodada} de {total_de_tentativas}')\n",
        "  while chute.isnumeric() is not True:\n",
        "    chute = input(\"Adivinhe o numero: \").strip()\n",
        "  chute = int(chute)\n",
        "    \n",
        "  if (chute < 1 or chute > 100):\n",
        "    print(\"Você deve digitar um número entre 1 e 100!\")\n",
        "\n",
        "  if chute == numero_secreto:\n",
        "      print(\"Você acertou!\")\n",
        "      break\n",
        "  else:\n",
        "      print(\"Você errou!\")\n",
        "      if chute < numero_secreto:\n",
        "        print(\"O seu chute foi menor que o número secreto.\")\n",
        "      else:\n",
        "        print(\"O seu chute foi maior que o número secreto.\")\n",
        "      chute = ''\n",
        "      rodada += 1"
      ],
      "execution_count": 44,
      "outputs": [
        {
          "output_type": "stream",
          "text": [
            "*********************************\n",
            "Bem vindo ao jogo de Adivinhação!\n",
            "*********************************\n",
            "76\n",
            "Qual nível de dificuldade?\n",
            "(1) Fácil (2) Médio (3) Difícil\n",
            "Nível: 3\n",
            "Tentativa 1 de 5\n",
            "Adivinhe o numero: 10\n",
            "Você errou!\n",
            "O seu chute foi menor que o número secreto.\n",
            "Tentativa 2 de 5\n",
            "Adivinhe o numero: 90\n",
            "Você errou!\n",
            "O seu chute foi maior que o número secreto.\n",
            "Tentativa 3 de 5\n",
            "Adivinhe o numero: 55\n",
            "Você errou!\n",
            "O seu chute foi menor que o número secreto.\n",
            "Tentativa 4 de 5\n",
            "Adivinhe o numero: 76\n",
            "Você acertou!\n"
          ],
          "name": "stdout"
        }
      ]
    },
    {
      "cell_type": "markdown",
      "metadata": {
        "id": "E74yYhgRepTe"
      },
      "source": [
        "Agora vamos criar um sistema de pontuação:\n",
        "- o jogador começa com 1000 pontos\n",
        "- a cada erro, sera subtratido do total de pontos a diferença entre o chute e o numero_secreto. Ex: numero_secreto = 20, chute = 5, temos 20-5 = 15, então perderá 15 pontos."
      ]
    },
    {
      "cell_type": "code",
      "metadata": {
        "colab": {
          "base_uri": "https://localhost:8080/"
        },
        "id": "kkFvMMM3fDhC",
        "outputId": "6d436602-97b1-45de-eb89-8c3ff57cbe60"
      },
      "source": [
        "import random\n",
        "\n",
        "print(\"*********************************\")\n",
        "print(\"Bem vindo ao jogo de Adivinhação!\")\n",
        "print(\"*********************************\")\n",
        "\n",
        "numero_secreto = random.randrange(1, 101)\n",
        "print(numero_secreto)\n",
        "chute = ''\n",
        "total_de_tentativas = 0\n",
        "rodada = 1\n",
        "pontos = 1000\n",
        "\n",
        "print(\"Qual nível de dificuldade?\")\n",
        "print(\"(1) Fácil (2) Médio (3) Difícil\")\n",
        "while True:\n",
        "  nivel = input(\"Nível: \").strip()\n",
        "  if (nivel == '1' or nivel == '2' or nivel == '3'):\n",
        "    break\n",
        "\n",
        "nivel = int(nivel)\n",
        "\n",
        "if (nivel == 1):\n",
        "  total_de_tentativas = 20\n",
        "elif (nivel == 2):\n",
        "  total_de_tentativas = 10\n",
        "else:\n",
        "  total_de_tentativas = 5\n",
        "\n",
        "while (rodada <= total_de_tentativas):\n",
        "  print(f'Tentativa {rodada} de {total_de_tentativas}')\n",
        "  while (chute.isnumeric() is not True):\n",
        "    chute = input(\"Adivinhe o numero: \").strip()\n",
        "  chute = int(chute)\n",
        "\n",
        "  if (chute < 1 or chute > 100):\n",
        "    print(\"Você deve digitar um número entre 1 e 100!\")\n",
        "\n",
        "  acertou = chute == numero_secreto\n",
        "  maior = chute > numero_secreto\n",
        "  menor = chute < numero_secreto\n",
        "\n",
        "  if (acertou):\n",
        "    print(f\"Você acertou e fez {pontos} pontos!\")\n",
        "    break\n",
        "  else:\n",
        "    pontos_perdidos = abs(numero_secreto - chute)\n",
        "    pontos -= pontos_perdidos\n",
        "    \n",
        "    if (menor):\n",
        "      print(\"O seu chute foi menor que o número secreto.\")\n",
        "      if (rodada == total_de_tentativas):\n",
        "        print(f\"O número secreto era {numero_secreto}. Você fez {pontos} pontos.\")\n",
        "    elif (maior):\n",
        "      print(\"O seu chute foi maior que o número secreto.\")\n",
        "      if (rodada == total_de_tentativas):\n",
        "        print(f\"O número secreto era {numero_secreto}. Você fez {pontos} pontos.\")\n",
        "\n",
        "    chute = ''\n",
        "    rodada += 1"
      ],
      "execution_count": 45,
      "outputs": [
        {
          "output_type": "stream",
          "text": [
            "*********************************\n",
            "Bem vindo ao jogo de Adivinhação!\n",
            "*********************************\n",
            "2\n",
            "Qual nível de dificuldade?\n",
            "(1) Fácil (2) Médio (3) Difícil\n",
            "Nível: 3\n",
            "Tentativa 1 de 5\n",
            "Adivinhe o numero: 12\n",
            "O seu chute foi maior que o número secreto.\n",
            "Tentativa 2 de 5\n",
            "Adivinhe o numero: 22\n",
            "O seu chute foi maior que o número secreto.\n",
            "Tentativa 3 de 5\n",
            "Adivinhe o numero: 2\n",
            "Você acertou e fez 970 pontos!\n"
          ],
          "name": "stdout"
        }
      ]
    },
    {
      "cell_type": "markdown",
      "metadata": {
        "id": "orvf1zVNnqOU"
      },
      "source": [
        "Agora nosso jogo está pronto!\n",
        "\n",
        "Gera um número aleatório a cada partida, possui sistema de pontuação, da dicas ao longo do jogo e você pode escolher entre 3 níveis diferentes!\n",
        "\n",
        "Para finalizar, vamos transformar em uma função e adicionar o *main* no final para que o jogo possa ser executado caso seja executado diretamente pelo seu arquivo. "
      ]
    },
    {
      "cell_type": "code",
      "metadata": {
        "id": "RIxqzKXdnra_",
        "colab": {
          "base_uri": "https://localhost:8080/"
        },
        "outputId": "509f5e54-761b-4d32-8550-a7cb7b556475"
      },
      "source": [
        "import random\n",
        "\n",
        "def jogar():\n",
        "  print(\"*********************************\")\n",
        "  print(\"Bem vindo ao jogo de Adivinhação!\")\n",
        "  print(\"*********************************\")\n",
        "\n",
        "  numero_secreto = random.randrange(1, 101)\n",
        "  chute = ''\n",
        "  total_de_tentativas = 0\n",
        "  rodada = 1\n",
        "  pontos = 1000\n",
        "\n",
        "  print(\"Qual nível de dificuldade?\")\n",
        "  print(\"(1) Fácil (2) Médio (3) Difícil\")\n",
        "  while True:\n",
        "    nivel = input(\"Nível: \").strip()\n",
        "    if (nivel == '1' or nivel == '2' or nivel == '3'):\n",
        "      break\n",
        "\n",
        "  nivel = int(nivel)\n",
        "\n",
        "  if (nivel == 1):\n",
        "    total_de_tentativas = 20\n",
        "  elif (nivel == 2):\n",
        "    total_de_tentativas = 10\n",
        "  else:\n",
        "    total_de_tentativas = 5\n",
        "\n",
        "  while (rodada <= total_de_tentativas):\n",
        "    print(f'Tentativa {rodada} de {total_de_tentativas}')\n",
        "    while (chute.isnumeric() is not True):\n",
        "      chute = input(\"Adivinhe o numero: \").strip()\n",
        "    chute = int(chute)\n",
        "\n",
        "    if (chute < 1 or chute > 100):\n",
        "      print(\"Você deve digitar um número entre 1 e 100!\")\n",
        "\n",
        "    acertou = chute == numero_secreto\n",
        "    maior = chute > numero_secreto\n",
        "    menor = chute < numero_secreto\n",
        "\n",
        "    if (acertou):\n",
        "      print(f\"Você acertou e fez {pontos} pontos!\")\n",
        "      break\n",
        "    else:\n",
        "      pontos_perdidos = abs(numero_secreto - chute)\n",
        "      pontos -= pontos_perdidos\n",
        "      \n",
        "      if (menor):\n",
        "        print(\"O seu chute foi menor que o número secreto.\")\n",
        "        if (rodada == total_de_tentativas):\n",
        "          print(f\"O número secreto era {numero_secreto}. Você fez {pontos} pontos.\")\n",
        "      elif (maior):\n",
        "        print(\"O seu chute foi maior que o número secreto.\")\n",
        "        if (rodada == total_de_tentativas):\n",
        "          print(f\"O número secreto era {numero_secreto}. Você fez {pontos} pontos.\")\n",
        "\n",
        "      chute = ''\n",
        "      rodada += 1\n",
        "\n",
        "if (__name__ == \"__main__\"):\n",
        "    jogar()"
      ],
      "execution_count": 46,
      "outputs": [
        {
          "output_type": "stream",
          "text": [
            "*********************************\n",
            "Bem vindo ao jogo de Adivinhação!\n",
            "*********************************\n",
            "Qual nível de dificuldade?\n",
            "(1) Fácil (2) Médio (3) Difícil\n",
            "Nível: 3\n",
            "Tentativa 1 de 5\n",
            "Adivinhe o numero: 50\n",
            "O seu chute foi maior que o número secreto.\n",
            "Tentativa 2 de 5\n",
            "Adivinhe o numero: 30\n",
            "O seu chute foi maior que o número secreto.\n",
            "Tentativa 3 de 5\n",
            "Adivinhe o numero: 20\n",
            "O seu chute foi maior que o número secreto.\n",
            "Tentativa 4 de 5\n",
            "Adivinhe o numero: 10\n",
            "O seu chute foi maior que o número secreto.\n",
            "Tentativa 5 de 5\n",
            "Adivinhe o numero: 3\n",
            "O seu chute foi menor que o número secreto.\n",
            "O número secreto era 5. Você fez 908 pontos.\n"
          ],
          "name": "stdout"
        }
      ]
    }
  ]
}